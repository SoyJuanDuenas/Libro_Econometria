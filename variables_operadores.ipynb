{
 "cells": [
  {
   "cell_type": "markdown",
   "id": "c89efe00",
   "metadata": {},
   "source": [
    "## Introducción\n",
    "\n",
    "Python es un lenguaje de programación interpretado, de alto nivel, lento, facil de aprender y comunmente usado en analisis y manejo de datos por lo cual es multiparadigma.\n",
    "\n",
    "Python se puede ejecutar de dos principales maneras, desde un editor de texto como VSCode o desde un Notebook como lo puede ser Jupyter Notebook, Colab o Pycharm, la ventaja de los segundos es que nos permiten trabajar con texto enriquecido y ver los outputs por partes de nuestro codigo, los cual nos da una flexibilidad muy alta.\n",
    "\n",
    "## Comentarios\n",
    "\n",
    "Es una buena practica comentar nuestro codigo, esto significa ir colocando texto no ejecutable que explique que esta haciendo nuestro codigo, esto facilitará más adelante nuestra vida al corregir el codigo y a otras personas que quieran entender lo que estamos haciendo, para comentar el codigo usamos el #, con esto el texto que se encuentre despues del numeral no será ejecutado\n",
    "\n"
   ]
  },
  {
   "cell_type": "code",
   "execution_count": 18,
   "id": "9bb1b91a",
   "metadata": {},
   "outputs": [],
   "source": [
    "#Esto es un comentario"
   ]
  },
  {
   "cell_type": "markdown",
   "id": "1ca05deb",
   "metadata": {},
   "source": [
    "## Variables y tipo de objetos"
   ]
  },
  {
   "cell_type": "markdown",
   "id": "0b570000",
   "metadata": {},
   "source": [
    "Diremos que una variable es un \"contenedor de información\" en la que podemos \"guardar\" diferntes objetos, generalmente se escriben en minúscula, sin espacios ni tildes, comas, puntos, signos de interrogación o cualquier otro caracter a excepción del guión bajo, en Python no es necesario declarar explicitamente el tipo de objeto que contiene una variable o colección.\n",
    "\n",
    "Para declarar una variable usamos:"
   ]
  },
  {
   "cell_type": "code",
   "execution_count": 19,
   "id": "698de18b",
   "metadata": {},
   "outputs": [],
   "source": [
    "nombre_de_la_variable_0 = \"Valor De La Variable\""
   ]
  },
  {
   "cell_type": "markdown",
   "id": "2d0bf722",
   "metadata": {},
   "source": [
    "Los objetos que guardamos en las variables pueden ser de diferentes tipos y dependiendo del tipo de objeto cambiamos la forma de guardarlo"
   ]
  },
  {
   "cell_type": "code",
   "execution_count": 20,
   "id": "322943b3",
   "metadata": {},
   "outputs": [],
   "source": [
    "objeto_int = 2\n",
    "objeto_string = \"Hola Mundo\"\n",
    "objeto_float = 2.5\n",
    "objeto_bool = False"
   ]
  },
  {
   "cell_type": "markdown",
   "id": "5d81dd82",
   "metadata": {},
   "source": [
    "Puede darse el caso de que requiero convertir un objeto de un tipo a otro tipo, para esto debo usar el type casting el cual es alguna de las siguientes funciones según corresponda\n",
    "\n"
   ]
  },
  {
   "cell_type": "code",
   "execution_count": 21,
   "id": "25ce66b3",
   "metadata": {},
   "outputs": [
    {
     "data": {
      "text/plain": [
       "2"
      ]
     },
     "execution_count": 21,
     "metadata": {},
     "output_type": "execute_result"
    }
   ],
   "source": [
    "int(objeto_float)"
   ]
  },
  {
   "cell_type": "code",
   "execution_count": 22,
   "id": "05ad4b69",
   "metadata": {},
   "outputs": [
    {
     "data": {
      "text/plain": [
       "2.0"
      ]
     },
     "execution_count": 22,
     "metadata": {},
     "output_type": "execute_result"
    }
   ],
   "source": [
    "float(objeto_int)"
   ]
  },
  {
   "cell_type": "code",
   "execution_count": 23,
   "id": "9687fe2b",
   "metadata": {},
   "outputs": [
    {
     "data": {
      "text/plain": [
       "'2'"
      ]
     },
     "execution_count": 23,
     "metadata": {},
     "output_type": "execute_result"
    }
   ],
   "source": [
    "str(objeto_int)"
   ]
  },
  {
   "cell_type": "code",
   "execution_count": 24,
   "id": "b79744af",
   "metadata": {},
   "outputs": [
    {
     "data": {
      "text/plain": [
       "False"
      ]
     },
     "execution_count": 24,
     "metadata": {},
     "output_type": "execute_result"
    }
   ],
   "source": [
    "bool(objeto_bool)"
   ]
  },
  {
   "cell_type": "markdown",
   "id": "9a89a98c",
   "metadata": {},
   "source": [
    "## Operadores aritméticos\n",
    "\n",
    "Python incluye varios operadores aritméticos que se utilizan para realizar operaciones matemáticas en números. Los operadores aritméticos incluyen:\n",
    "\n",
    "- `+`: suma dos números\n",
    "- `-`: resta dos números\n",
    "- `*` : multiplica dos números\n",
    "- `/`: divide dos números (devuelve un número flotante)\n",
    "- `//`: divide dos números (devuelve la parte entera de la división)\n",
    "- `%`: devuelve el resto de la división entre dos números\n",
    "- `**`: eleva un número a una potencia\n",
    "\n",
    "A continuación, algunos ejemplos:"
   ]
  },
  {
   "cell_type": "code",
   "execution_count": 25,
   "id": "ea409d96",
   "metadata": {},
   "outputs": [],
   "source": [
    "a = 10\n",
    "b = 5\n",
    "\n",
    "suma = a + b\n",
    "resta = a - b\n",
    "multiplicacion = a * b\n",
    "division = a / b\n",
    "division_entera = a // b\n",
    "resto = a % b\n",
    "potencia = a ** 2"
   ]
  },
  {
   "cell_type": "markdown",
   "id": "c7901901",
   "metadata": {},
   "source": [
    "También podemos utilizar operadores aritméticos con variables y asignar el resultado a otra variable:"
   ]
  },
  {
   "cell_type": "code",
   "execution_count": 26,
   "id": "61e3061a",
   "metadata": {},
   "outputs": [
    {
     "name": "stdout",
     "output_type": "stream",
     "text": [
      "15\n",
      "50\n"
     ]
    }
   ],
   "source": [
    "a = 10\n",
    "b = 5\n",
    "\n",
    "c = a + b\n",
    "d = a * b\n",
    "\n",
    "print(c) # Output: 15\n",
    "print(d) # Output: 50"
   ]
  },
  {
   "cell_type": "markdown",
   "id": "6ecc3ee9",
   "metadata": {},
   "source": [
    "Además, Python sigue las reglas convencionales de precedencia de operadores aritméticos. Esto significa que las operaciones dentro de paréntesis se evalúan primero, seguidas de la exponenciación, la multiplicación y la división, y finalmente la suma y la resta. Podemos utilizar paréntesis para forzar un orden de evaluación diferente\n",
    "\n",
    "## Operadores Logicos y de comparación\n",
    "\n",
    "En Python, existen tres operadores lógicos que se utilizan para combinar expresiones lógicas y producir un resultado verdadero o falso:\n",
    "\n",
    "- `and`: Este operador devuelve verdadero si ambos operandos son verdaderos. En caso contrario, devuelve falso.\n",
    "- `or`: Este operador devuelve verdadero si al menos uno de los operandos es verdadero. Si ambos operandos son falsos, devuelve falso.\n",
    "- `not`: Este operador devuelve el valor opuesto al resultado de la expresión. Si la expresión es verdadera, devuelve falso y si la expresión es falsa, devuelve verdadero.\n",
    "\n",
    "Además, se pueden utilizar los operadores de comparación para crear expresiones lógicas. Los operadores de comparación son los siguientes:\n",
    "\n",
    "- `==` Este operador devuelve verdadero si los operandos son iguales.\n",
    "- `!=` Este operador devuelve verdadero si los operandos son diferentes.\n",
    "- `>` Este operador devuelve verdadero si el operando izquierdo es mayor que el operando derecho.\n",
    "- `<` Este operador devuelve verdadero si el operando izquierdo es menor que el operando derecho.\n",
    "- `>=` Este operador devuelve verdadero si el operando izquierdo es mayor o igual que el operando derecho.\n",
    "- `<=` Este operador devuelve verdadero si el operando izquierdo es menor o igual que el operando derecho.\n",
    "\n",
    "## Opciones de Formato\n",
    "\n",
    "Las opciones de formato en Python se refieren a las diferentes formas en que se pueden dar formato a las cadenas de caracteres para incluir valores de variables y otros elementos. El objetivo de las opciones de formato es producir cadenas de caracteres que sean fáciles de leer y entender para los usuarios finales.\n",
    "\n",
    "Python ofrece varias opciones de formato para dar formato a cadenas de caracteres, entre ellas:\n"
   ]
  },
  {
   "cell_type": "markdown",
   "id": "19cd0237",
   "metadata": {},
   "source": [
    "Las opciones de formato en Python se refieren a las diferentes formas en que se pueden dar formato a las cadenas de caracteres para incluir valores de variables y otros elementos. El objetivo de las opciones de formato es producir cadenas de caracteres que sean fáciles de leer y entender para los usuarios finales.\n",
    "\n",
    "Python ofrece varias opciones de formato para dar formato a cadenas de caracteres, entre ellas:\n",
    "\n",
    "1. Formato de cadenas f: Las cadenas f o cadenas de formato le permiten incluir valores de variables dentro de una cadena de caracteres colocando los nombres de las variables entre llaves { }\n",
    "    "
   ]
  },
  {
   "cell_type": "code",
   "execution_count": 27,
   "id": "1280380f",
   "metadata": {},
   "outputs": [
    {
     "name": "stdout",
     "output_type": "stream",
     "text": [
      "Hola, mi nombre es Juan y tengo 25 años\n"
     ]
    }
   ],
   "source": [
    "nombre = \"Juan\"\n",
    "edad = 25\n",
    "print(f\"Hola, mi nombre es {nombre} y tengo {edad} años\")"
   ]
  },
  {
   "cell_type": "markdown",
   "id": "8b3576a7",
   "metadata": {},
   "source": [
    "2. Método de formato str.format(): El método de formato str.format() le permite especificar valores de variables dentro de una cadena de caracteres mediante la utilización de llaves {}.\n",
    "    "
   ]
  },
  {
   "cell_type": "code",
   "execution_count": 28,
   "id": "0317dd28",
   "metadata": {},
   "outputs": [
    {
     "name": "stdout",
     "output_type": "stream",
     "text": [
      "Hola, mi nombre es Juan y tengo 25 años\n"
     ]
    }
   ],
   "source": [
    "nombre = \"Juan\"\n",
    "edad = 25\n",
    "print(\"Hola, mi nombre es {} y tengo {} años\".format(nombre, edad))"
   ]
  },
  {
   "cell_type": "markdown",
   "id": "3b4311e3",
   "metadata": {},
   "source": [
    "   \n",
    "    \n",
    "3. Utilización de operadores de formato %: Este método es similar al método de formato str.format(), pero utiliza operadores de formato % para especificar los valores de las variables.\n",
    "    \n",
    "    Muy importante tener en cuenta que:\n",
    "    \n",
    "    - %s - Cadena (O cualquier objeto, como los números al representarlos en una cadena de texto)\n",
    "    - %d - Enteros\n",
    "    - %f - Números de punto flotante\n",
    "    - %.f - Números de punto flotante con una cantidad de números * fijos a la derecha del punto.\n",
    "    - %b - Enteros con representacion bin (minúscula/mayúscula)\n",
    "    - %x - Enteros con representacion hex (minúscula/mayúscula)\n",
    "    - %o - Enteros con representacion oct (minúscula/mayúscula)\n"
   ]
  },
  {
   "cell_type": "code",
   "execution_count": 29,
   "id": "9b96b45f",
   "metadata": {},
   "outputs": [
    {
     "name": "stdout",
     "output_type": "stream",
     "text": [
      "Hola, mi nombre es Juan y tengo 25 años\n"
     ]
    }
   ],
   "source": [
    "nombre = \"Juan\"\n",
    "edad = 25\n",
    "print(\"Hola, mi nombre es %s y tengo %d años\" % (nombre, edad))"
   ]
  }
 ],
 "metadata": {
  "kernelspec": {
   "display_name": "Python 3 (ipykernel)",
   "language": "python",
   "name": "python3"
  },
  "language_info": {
   "codemirror_mode": {
    "name": "ipython",
    "version": 3
   },
   "file_extension": ".py",
   "mimetype": "text/x-python",
   "name": "python",
   "nbconvert_exporter": "python",
   "pygments_lexer": "ipython3",
   "version": "3.9.13"
  }
 },
 "nbformat": 4,
 "nbformat_minor": 5
}
