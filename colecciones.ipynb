{
 "cells": [
  {
   "cell_type": "markdown",
   "id": "0d8ac989",
   "metadata": {},
   "source": [
    "## Colecciones\n",
    "\n",
    "Una colección es un objeto que puede contener varios valores o elementos, como números, cadenas de texto, objetos u otras colecciones. Las colecciones son una parte fundamental del lenguaje Python y se utilizan en muchas situaciones para almacenar y manipular datos.\n",
    "\n",
    "Las principales colecciones que podemos encontrar son:\n",
    "\n",
    "- Variables\n",
    "- Strings\n",
    "- Sets / Conjuntos\n",
    "- Lists / Listas\n",
    "- Dicts / Diccionarios\n",
    "- Tuplas\n",
    "\n",
    "### Lists / Listas\n",
    "\n",
    "Una lista en Python es una colección ordenada y mutable de elementos separados por comas y encerrados entre corchetes cuadrados [ ]. Los elementos pueden ser de diferentes tipos de datos, como números, cadenas de texto, booleanos, etc. Las listas se utilizan para almacenar colecciones de elementos relacionados entre sí y se pueden modificar añadiendo, eliminando o modificando elementos. Las listas también se pueden utilizar para representar matrices y vectores.\n",
    "\n",
    "Las listas tienen un indice que nos sirve para acceder a cada uno de los elementos pertenecientes a esta lista, es decir el índice de una lista, especifica la posición de un elemento en la lista. En Python, el índice comienza en cero, lo que significa que el primer elemento de la lista tiene un índice de 0, el segundo elemento tiene un índice de 1, y así sucesivamente.\n",
    "\n",
    "Para acceder a un elemento específico de la lista, podemos usar su índice dentro de corchetes. Por ejemplo, para acceder al segundo elemento de una lista llamada `mi_lista`, usaríamos `mi_lista[1]`.\n",
    "\n",
    "También podemos usar índices negativos para acceder a elementos de la lista desde el final. Por ejemplo, `mi_lista[-1]` accedería al último elemento de la lista.\n",
    "\n",
    "A continuación, algunos ejemplos:"
   ]
  },
  {
   "cell_type": "code",
   "execution_count": 3,
   "id": "4b0e8eeb",
   "metadata": {},
   "outputs": [
    {
     "name": "stdout",
     "output_type": "stream",
     "text": [
      "1\n",
      "3\n",
      "5\n"
     ]
    }
   ],
   "source": [
    "mi_lista = [1, 2, 3, 4, 5]\n",
    "print(mi_lista[0]) # Output: 1\n",
    "print(mi_lista[2]) # Output: 3\n",
    "print(mi_lista[-1]) # Output: 5"
   ]
  },
  {
   "cell_type": "markdown",
   "id": "b4cd2c7c",
   "metadata": {},
   "source": [
    "También podemos modificar elementos de la lista utilizando su índice. Por ejemplo, para cambiar el segundo elemento de `mi_lista` a 10, podemos hacer lo siguiente:"
   ]
  },
  {
   "cell_type": "code",
   "execution_count": 4,
   "id": "a68dc298",
   "metadata": {},
   "outputs": [
    {
     "name": "stdout",
     "output_type": "stream",
     "text": [
      "[1, 10, 3, 4, 5]\n"
     ]
    }
   ],
   "source": [
    "mi_lista[1] = 10\n",
    "print(mi_lista) # Output: [1, 10, 3, 4, 5]"
   ]
  },
  {
   "cell_type": "markdown",
   "id": "5879a299",
   "metadata": {},
   "source": [
    "Como todas las clases hay unos metodos que nos permiten editar esto \n",
    "\n",
    "### Metodos de las list / listas\n",
    "\n",
    "Los principales métodos de la clase `list` en Python incluyen:\n",
    "\n",
    "- `append()`: agrega un elemento al final de la lista. Ejemplo: `mi_lista.append(6)`\n",
    "- `insert()`: inserta un elemento en una posición específica de la lista. Ejemplo: `mi_lista.insert(2, 7)` (inserta el número 7 en la posición 2 de la lista)\n",
    "- `remove()`: elimina el primer elemento de la lista que coincide con el valor especificado. Ejemplo: `mi_lista.remove(3)` (elimina el número 3 de la lista)\n",
    "- `pop()`: elimina el elemento en la posición especificada de la lista y devuelve ese elemento. Si no se especifica una posición, se elimina y devuelve el último elemento de la lista. Ejemplo: `mi_lista.pop(2)` (elimina el elemento en la posición 2 de la lista y devuelve ese elemento)\n",
    "- `clear()`: elimina todos los elementos de la lista. Ejemplo: `mi_lista.clear()`\n",
    "- `sort()`: ordena los elementos de la lista en orden ascendente. Ejemplo: `mi_lista.sort()`\n",
    "- `reverse()`: invierte el orden de los elementos de la lista. Ejemplo: `mi_lista.reverse()`\n",
    "\n",
    "Aquí hay un ejemplo que utiliza algunos de estos métodos:"
   ]
  },
  {
   "cell_type": "code",
   "execution_count": 5,
   "id": "5dc03a9c",
   "metadata": {},
   "outputs": [
    {
     "name": "stdout",
     "output_type": "stream",
     "text": [
      "[6, 5, 4, 2, 1]\n"
     ]
    }
   ],
   "source": [
    "mi_lista = [1, 2, 3, 4, 5]\n",
    "mi_lista.append(6)\n",
    "mi_lista.insert(2, 7)\n",
    "mi_lista.remove(3)\n",
    "eliminado = mi_lista.pop(2)\n",
    "mi_lista.sort()\n",
    "mi_lista.reverse()\n",
    "print(mi_lista) # Output: [6, 5, 4, 2, 1]"
   ]
  },
  {
   "cell_type": "markdown",
   "id": "b7b092bd",
   "metadata": {},
   "source": [
    "### Tuplas\n",
    "\n",
    "Una tupla en Python es una colección ordenada e inmutable de elementos separados por comas y encerrados entre paréntesis ( ). Los elementos pueden ser de diferentes tipos de datos, como números, cadenas de texto, booleanos, etc. Las tuplas se utilizan para almacenar colecciones de elementos relacionados entre sí y son similares a las listas, pero no se pueden modificar añadiendo, eliminando o modificando elementos después de que se han creado.\n",
    "\n",
    "Las tuplas al igual que las listas tienen un índice que nos sirve para acceder a cada uno de los elementos pertenecientes a esta tupla, es decir el índice de una tupla, especifica la posición de un elemento en la tupla. En Python, el índice comienza en cero, lo que significa que el primer elemento de la tupla tiene un índice de 0, el segundo elemento tiene un índice de 1, y así sucesivamente.\n",
    "\n",
    "Para acceder a un elemento específico de la tupla, podemos usar su índice dentro de paréntesis. Por ejemplo, para acceder al segundo elemento de una tupla llamada `mi_tupla`, usaríamos `mi_tupla[1]`.\n",
    "\n",
    "También podemos usar índices negativos para acceder a elementos de la tupla desde el final. Por ejemplo, `mi_tupla[-1]` accedería al último elemento de la tupla.\n",
    "\n",
    "A continuación, algunos ejemplos:\n"
   ]
  },
  {
   "cell_type": "code",
   "execution_count": 6,
   "id": "69c7bfd4",
   "metadata": {},
   "outputs": [
    {
     "name": "stdout",
     "output_type": "stream",
     "text": [
      "1\n",
      "3\n",
      "5\n"
     ]
    }
   ],
   "source": [
    "mi_tupla = (1, 2, 3, 4, 5)\n",
    "print(mi_tupla[0]) # Output: 1\n",
    "print(mi_tupla[2]) # Output: 3\n",
    "print(mi_tupla[-1]) # Output: 5"
   ]
  },
  {
   "cell_type": "markdown",
   "id": "9fac4d85",
   "metadata": {},
   "source": [
    "Las tuplas son útiles cuando queremos almacenar datos que no deben cambiar, como coordenadas o constantes. También se usan a menudo para devolver múltiples valores de una función.\n",
    "\n",
    "Aunque las tuplas son inmutables, podemos concatenar dos o más tuplas para crear una nueva tupla que contenga los elementos de ambas tuplas:\n",
    "\n"
   ]
  },
  {
   "cell_type": "code",
   "execution_count": 7,
   "id": "dc874962",
   "metadata": {},
   "outputs": [
    {
     "name": "stdout",
     "output_type": "stream",
     "text": [
      "(1, 2, 3, 4, 5, 6)\n"
     ]
    }
   ],
   "source": [
    "mi_tupla = (1, 2, 3)\n",
    "otra_tupla = (4, 5, 6)\n",
    "nueva_tupla = mi_tupla + otra_tupla\n",
    "print(nueva_tupla) # Output: (1, 2, 3, 4, 5, 6)"
   ]
  },
  {
   "cell_type": "markdown",
   "id": "e666d5f9",
   "metadata": {},
   "source": [
    "### Sets / Conjuntos\n",
    "\n",
    "Un conjunto en Python es una colección desordenada y mutable de elementos únicos separados por comas y encerrados entre llaves { }. Los elementos pueden ser de diferentes tipos de datos, como números, cadenas de texto, booleanos, etc. Los conjuntos se utilizan para almacenar colecciones de elementos relacionados entre sí y se pueden modificar añadiendo o eliminando elementos. Los conjuntos también se pueden utilizar para realizar operaciones matemáticas comunes, como la unión, la intersección y la diferencia.\n",
    "\n",
    "Para crear un conjunto vacío, podemos utilizar la función `set()`:"
   ]
  },
  {
   "cell_type": "code",
   "execution_count": 8,
   "id": "266a2eaf",
   "metadata": {},
   "outputs": [
    {
     "name": "stdout",
     "output_type": "stream",
     "text": [
      "set()\n"
     ]
    }
   ],
   "source": [
    "mi_set = set()\n",
    "print(mi_set) # Output: set()"
   ]
  },
  {
   "cell_type": "markdown",
   "id": "194cc199",
   "metadata": {},
   "source": [
    "Para crear un conjunto con elementos, podemos hacer lo siguiente:"
   ]
  },
  {
   "cell_type": "code",
   "execution_count": 9,
   "id": "44222f66",
   "metadata": {},
   "outputs": [
    {
     "name": "stdout",
     "output_type": "stream",
     "text": [
      "{1, 2, 3}\n"
     ]
    }
   ],
   "source": [
    "mi_set = {1, 2, 3}\n",
    "print(mi_set) # Output: {1, 2, 3}"
   ]
  },
  {
   "cell_type": "markdown",
   "id": "fbd7f885",
   "metadata": {},
   "source": [
    "También podemos crear un conjunto a partir de una lista:"
   ]
  },
  {
   "cell_type": "code",
   "execution_count": 10,
   "id": "ae138c20",
   "metadata": {},
   "outputs": [
    {
     "name": "stdout",
     "output_type": "stream",
     "text": [
      "{1, 2, 3, 4}\n"
     ]
    }
   ],
   "source": [
    "mi_lista = [1, 2, 3, 3, 4]\n",
    "mi_set = set(mi_lista)\n",
    "print(mi_set) # Output: {1, 2, 3, 4}"
   ]
  },
  {
   "cell_type": "markdown",
   "id": "563d4eb0",
   "metadata": {},
   "source": [
    "\n",
    "### metodos de la clase Sets / Conjuntos\n",
    "\n",
    "Podemos agregar elementos a un conjunto utilizando el método `add()`:\n"
   ]
  },
  {
   "cell_type": "code",
   "execution_count": 11,
   "id": "666a660d",
   "metadata": {},
   "outputs": [
    {
     "name": "stdout",
     "output_type": "stream",
     "text": [
      "{1, 2, 3, 4}\n"
     ]
    }
   ],
   "source": [
    "mi_set = {1, 2, 3}\n",
    "mi_set.add(4)\n",
    "print(mi_set) # Output: {1, 2, 3, 4}"
   ]
  },
  {
   "cell_type": "markdown",
   "id": "ba3ee87e",
   "metadata": {},
   "source": [
    "Podemos eliminar elementos de un conjunto utilizando el método `remove()`:"
   ]
  },
  {
   "cell_type": "code",
   "execution_count": 12,
   "id": "67f3be04",
   "metadata": {},
   "outputs": [
    {
     "name": "stdout",
     "output_type": "stream",
     "text": [
      "{1, 3}\n"
     ]
    }
   ],
   "source": [
    "mi_set = {1, 2, 3}\n",
    "mi_set.remove(2)\n",
    "print(mi_set) # Output: {1, 3}"
   ]
  },
  {
   "cell_type": "markdown",
   "id": "ae0b9869",
   "metadata": {},
   "source": [
    "Podemos realizar operaciones matemáticas comunes en conjuntos, como la unión, la intersección y la diferencia. Por ejemplo, para obtener la unión de dos conjuntos, podemos utilizar el método `union()` o el operador `|`:"
   ]
  },
  {
   "cell_type": "code",
   "execution_count": 13,
   "id": "9eb63b5f",
   "metadata": {},
   "outputs": [
    {
     "name": "stdout",
     "output_type": "stream",
     "text": [
      "{1, 2, 3, 4, 5}\n",
      "{1, 2, 3, 4, 5}\n"
     ]
    }
   ],
   "source": [
    "set1 = {1, 2, 3}\n",
    "set2 = {3, 4, 5}\n",
    "union = set1.union(set2)\n",
    "print(union) # Output: {1, 2, 3, 4, 5}\n",
    "\n",
    "union = set1 | set2\n",
    "print(union) # Output: {1, 2, 3, 4, 5}"
   ]
  },
  {
   "cell_type": "markdown",
   "id": "11aa2da1",
   "metadata": {},
   "source": [
    "Para obtener la intersección de dos conjuntos, podemos utilizar el método `intersection()` o el operador `&`:"
   ]
  },
  {
   "cell_type": "code",
   "execution_count": 14,
   "id": "c99825f7",
   "metadata": {},
   "outputs": [
    {
     "name": "stdout",
     "output_type": "stream",
     "text": [
      "{3}\n",
      "{3}\n"
     ]
    }
   ],
   "source": [
    "set1 = {1, 2, 3}\n",
    "set2 = {3, 4, 5}\n",
    "interseccion = set1.intersection(set2)\n",
    "print(interseccion) # Output: {3}\n",
    "\n",
    "interseccion = set1 & set2\n",
    "print(interseccion) # Output: {3}\n"
   ]
  },
  {
   "cell_type": "markdown",
   "id": "896abf68",
   "metadata": {},
   "source": [
    "\n",
    "Para obtener la diferencia entre dos conjuntos, podemos utilizar el método `difference()` o el operador `-`:\n"
   ]
  },
  {
   "cell_type": "code",
   "execution_count": 15,
   "id": "daec19c5",
   "metadata": {},
   "outputs": [
    {
     "name": "stdout",
     "output_type": "stream",
     "text": [
      "{1, 2}\n",
      "{1, 2}\n"
     ]
    }
   ],
   "source": [
    "set1 = {1, 2, 3}\n",
    "set2 = {3, 4, 5}\n",
    "diferencia = set1.difference(set2)\n",
    "print(diferencia) # Output: {1, 2}\n",
    "\n",
    "diferencia = set1 - set2\n",
    "print(diferencia) # Output: {1, 2}"
   ]
  },
  {
   "cell_type": "markdown",
   "id": "27a060ee",
   "metadata": {},
   "source": [
    "\n",
    "También podemos realizar operaciones de comparación en conjuntos, como verificar si un conjunto es subconjunto de otro conjunto. Por ejemplo, para verificar si `set1` es un subconjunto de `set2`, podemos utilizar el método `issubset()`:\n",
    "\n"
   ]
  },
  {
   "cell_type": "code",
   "execution_count": 16,
   "id": "30583eee",
   "metadata": {},
   "outputs": [
    {
     "name": "stdout",
     "output_type": "stream",
     "text": [
      "True\n"
     ]
    }
   ],
   "source": [
    "set1 = {1, 2, 3}\n",
    "set2 = {1, 2, 3, 4, 5}\n",
    "print(set1.issubset(set2)) # Output: True"
   ]
  },
  {
   "cell_type": "markdown",
   "id": "eac8499f",
   "metadata": {},
   "source": [
    "Podemos realizar otras operaciones comunes en conjuntos, como verificar si dos conjuntos son iguales (`==`), verificar si un elemento está en un conjunto (`in`), y obtener la longitud de un conjunto (`len()`).\n",
    "\n",
    "Los conjuntos son útiles cuando queremos almacenar datos únicos y realizar operaciones matemáticas comunes en ellos.\n",
    "\n",
    "### Dicts / Diccionarios\n",
    "\n",
    "Un diccionario en Python es una colección desordenada y mutable de pares clave-valor separados por comas y encerrados entre llaves { }. Cada clave en el diccionario debe ser única y los valores pueden ser de diferentes tipos de datos, como números, cadenas de texto, booleanos, listas, conjuntos, tuplas o incluso otros diccionarios. Los diccionarios se utilizan para almacenar colecciones de elementos relacionados entre sí y se pueden modificar añadiendo, eliminando o modificando elementos.\n",
    "\n",
    "Para crear un diccionario vacío, podemos utilizar la función `dict()`:\n"
   ]
  },
  {
   "cell_type": "code",
   "execution_count": 17,
   "id": "7b1cb462",
   "metadata": {},
   "outputs": [
    {
     "name": "stdout",
     "output_type": "stream",
     "text": [
      "{}\n"
     ]
    }
   ],
   "source": [
    "mi_dict = dict()\n",
    "print(mi_dict) # Output: {}"
   ]
  },
  {
   "cell_type": "markdown",
   "id": "76020a65",
   "metadata": {},
   "source": [
    "Para crear un diccionario con elementos, podemos hacer lo siguiente:"
   ]
  },
  {
   "cell_type": "code",
   "execution_count": 18,
   "id": "421f27cb",
   "metadata": {},
   "outputs": [
    {
     "name": "stdout",
     "output_type": "stream",
     "text": [
      "{'nombre': 'Juan', 'apellido': 'Pérez', 'edad': 30}\n"
     ]
    }
   ],
   "source": [
    "mi_dict = {\"nombre\": \"Juan\", \"apellido\": \"Pérez\", \"edad\": 30}\n",
    "print(mi_dict) # Output: {'nombre': 'Juan', 'apellido': 'Pérez', 'edad': 30}"
   ]
  },
  {
   "cell_type": "markdown",
   "id": "c02a7119",
   "metadata": {},
   "source": [
    "También podemos crear un diccionario a partir de una lista de pares clave-valor:"
   ]
  },
  {
   "cell_type": "code",
   "execution_count": 19,
   "id": "2009a230",
   "metadata": {},
   "outputs": [
    {
     "name": "stdout",
     "output_type": "stream",
     "text": [
      "{'nombre': 'Juan', 'apellido': 'Pérez', 'edad': 30}\n"
     ]
    }
   ],
   "source": [
    "mi_lista = [(\"nombre\", \"Juan\"), (\"apellido\", \"Pérez\"), (\"edad\", 30)]\n",
    "mi_dict = dict(mi_lista)\n",
    "print(mi_dict) # Output: {'nombre': 'Juan', 'apellido': 'Pérez', 'edad': 30}"
   ]
  },
  {
   "cell_type": "markdown",
   "id": "7def89b1",
   "metadata": {},
   "source": [
    "Podemos acceder a los valores de un diccionario utilizando su clave. Por ejemplo, para acceder al valor correspondiente a la clave \"nombre\" en un diccionario llamado `mi_dict`, podemos hacer lo siguiente:"
   ]
  },
  {
   "cell_type": "code",
   "execution_count": 20,
   "id": "62f2b69c",
   "metadata": {},
   "outputs": [
    {
     "name": "stdout",
     "output_type": "stream",
     "text": [
      "Juan\n"
     ]
    }
   ],
   "source": [
    "mi_dict = {\"nombre\": \"Juan\", \"apellido\": \"Pérez\", \"edad\": 30}\n",
    "print(mi_dict[\"nombre\"]) # Output: Juan"
   ]
  },
  {
   "cell_type": "markdown",
   "id": "a0bdce5c",
   "metadata": {},
   "source": [
    "También podemos utilizar el método `get()` para acceder a los valores de un diccionario. La ventaja de `get()` es que si la clave no existe en el diccionario, devuelve un valor predeterminado en lugar de generar un error:"
   ]
  },
  {
   "cell_type": "code",
   "execution_count": 21,
   "id": "cbd2debb",
   "metadata": {},
   "outputs": [
    {
     "name": "stdout",
     "output_type": "stream",
     "text": [
      "Juan\n",
      "Valor predeterminado\n"
     ]
    }
   ],
   "source": [
    "mi_dict = {\"nombre\": \"Juan\", \"apellido\": \"Pérez\", \"edad\": 30}\n",
    "print(mi_dict.get(\"nombre\", \"Valor predeterminado\")) # Output: Juan\n",
    "print(mi_dict.get(\"direccion\", \"Valor predeterminado\")) # Output: Valor predeterminado"
   ]
  },
  {
   "cell_type": "markdown",
   "id": "f0a1e93f",
   "metadata": {},
   "source": [
    "Podemos modificar los valores de un diccionario utilizando su clave. Por ejemplo, para cambiar el valor correspondiente a la clave \"edad\" en un diccionario llamado `mi_dict` a 40, podemos hacer lo siguiente:"
   ]
  },
  {
   "cell_type": "code",
   "execution_count": 22,
   "id": "ea33067d",
   "metadata": {},
   "outputs": [
    {
     "name": "stdout",
     "output_type": "stream",
     "text": [
      "{'nombre': 'Juan', 'apellido': 'Pérez', 'edad': 40}\n"
     ]
    }
   ],
   "source": [
    "mi_dict = {\"nombre\": \"Juan\", \"apellido\": \"Pérez\", \"edad\": 30}\n",
    "mi_dict[\"edad\"] = 40\n",
    "print(mi_dict) # Output: {'nombre': 'Juan', 'apellido': 'Pérez', 'edad': 40}"
   ]
  },
  {
   "cell_type": "markdown",
   "id": "410317e1",
   "metadata": {},
   "source": [
    "Si la clave no existe en el diccionario, se agrega un nuevo par clave-valor al diccionario:"
   ]
  },
  {
   "cell_type": "code",
   "execution_count": 23,
   "id": "48564ad2",
   "metadata": {},
   "outputs": [
    {
     "name": "stdout",
     "output_type": "stream",
     "text": [
      "{'nombre': 'Juan', 'apellido': 'Pérez', 'edad': 30, 'direccion': 'Calle 123'}\n"
     ]
    }
   ],
   "source": [
    "mi_dict = {\"nombre\": \"Juan\", \"apellido\": \"Pérez\", \"edad\": 30}\n",
    "mi_dict[\"direccion\"] = \"Calle 123\"\n",
    "print(mi_dict) # Output: {'nombre': 'Juan', 'apellido': 'Pérez', 'edad': 30, 'direccion': 'Calle 123'}"
   ]
  },
  {
   "cell_type": "markdown",
   "id": "a3258756",
   "metadata": {},
   "source": [
    "Podemos eliminar elementos de un diccionario utilizando la palabra clave `del` y la clave correspondiente:"
   ]
  },
  {
   "cell_type": "code",
   "execution_count": 24,
   "id": "64b3e412",
   "metadata": {},
   "outputs": [
    {
     "name": "stdout",
     "output_type": "stream",
     "text": [
      "{'nombre': 'Juan', 'apellido': 'Pérez'}\n"
     ]
    }
   ],
   "source": [
    "mi_dict = {\"nombre\": \"Juan\", \"apellido\": \"Pérez\", \"edad\": 30}\n",
    "del mi_dict[\"edad\"]\n",
    "print(mi_dict) # Output: {'nombre': 'Juan', 'apellido': 'Pérez'}"
   ]
  },
  {
   "cell_type": "markdown",
   "id": "70b3ca4d",
   "metadata": {},
   "source": [
    "Como todas las clases hay unos métodos que nos permiten editar esto.\n",
    "\n",
    "### Métodos de la clase Dicts / Diccionarios\n",
    "\n",
    "Los principales métodos de la clase `dict` en Python incluyen:\n",
    "\n",
    "- `keys()`: devuelve una lista con las claves del diccionario. Ejemplo: `mi_dict.keys()`\n",
    "- `values()`: devuelve una lista con los valores del diccionario. Ejemplo: `mi_dict.values()`\n",
    "- `items()`: devuelve una lista de tuplas con los pares clave-valor del diccionario. Ejemplo: `mi_dict.items()`\n",
    "- `clear()`: elimina todos los elementos del diccionario. Ejemplo: `mi_dict.clear()`\n",
    "- `update()`: actualiza el diccionario con los pares clave-valor de otro diccionario o de una lista de pares clave-valor. Ejemplo: `mi_dict.update({\"direccion\": \"Calle 123\", \"telefono\": \"555-1234\"})`\n",
    "\n",
    "Aquí hay un ejemplo que utiliza algunos de estos métodos:"
   ]
  },
  {
   "cell_type": "code",
   "execution_count": 25,
   "id": "06bb0f1b",
   "metadata": {},
   "outputs": [
    {
     "name": "stdout",
     "output_type": "stream",
     "text": [
      "{'nombre': 'Juan', 'apellido': 'Pérez', 'edad': 30, 'direccion': 'Calle 123', 'telefono': '555-1234'}\n"
     ]
    }
   ],
   "source": [
    "mi_dict = {\"nombre\": \"Juan\", \"apellido\": \"Pérez\", \"edad\": 30}\n",
    "claves = mi_dict.keys()\n",
    "valores = mi_dict.values()\n",
    "items = mi_dict.items()\n",
    "mi_dict.update({\"direccion\": \"Calle 123\", \"telefono\": \"555-1234\"})\n",
    "print(mi_dict) # Output: {'nombre': 'Juan', 'apellido': 'Pérez', 'edad': 30, 'direccion': 'Calle 123', 'telefono': '555-1234'}"
   ]
  }
 ],
 "metadata": {
  "kernelspec": {
   "display_name": "Python 3 (ipykernel)",
   "language": "python",
   "name": "python3"
  },
  "language_info": {
   "codemirror_mode": {
    "name": "ipython",
    "version": 3
   },
   "file_extension": ".py",
   "mimetype": "text/x-python",
   "name": "python",
   "nbconvert_exporter": "python",
   "pygments_lexer": "ipython3",
   "version": "3.9.13"
  }
 },
 "nbformat": 4,
 "nbformat_minor": 5
}
